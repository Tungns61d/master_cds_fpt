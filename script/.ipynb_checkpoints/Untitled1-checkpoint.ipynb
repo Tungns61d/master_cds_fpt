{
 "cells": [
  {
   "cell_type": "code",
   "execution_count": 24,
   "metadata": {},
   "outputs": [],
   "source": [
    "import cv2\n",
    "import numpy as np\n",
    "from matplotlib import pyplot as plt\n",
    "from os import listdir\n",
    "# local modules\n",
    "#from common import clock, mosaic\n",
    "\n",
    "#Parameter\n",
    "SIZE = 32\n",
    "CLASS_NUMBER = 13\n",
    "\n",
    "img = cv2.imread('lane3.png')\n",
    "cv2.imshow('image',img)\n",
    "cv2.waitKey()\n",
    "cv2.destroyAllWindows()"
   ]
  },
  {
   "cell_type": "code",
   "execution_count": null,
   "metadata": {},
   "outputs": [],
   "source": [
    "def load_traffic_dataset():\n",
    "    dataset = []\n",
    "    labels = []\n",
    "    for sign_type in range(CLASS_NUMBER):\n",
    "        sign_list = listdir(\"./dataset/{}\".format(sign_type))\n",
    "        for sign_file in sign_list:\n",
    "            if '.png' in sign_file:\n",
    "                path = \"./dataset/{}/{}\".format(sign_type,sign_file)\n",
    "                print(path)\n",
    "                img = cv2.imread(path,0)\n",
    "                img = cv2.resize(img, (SIZE, SIZE))\n",
    "                img = np.reshape(img, [SIZE, SIZE])\n",
    "                dataset.append(img)\n",
    "                labels.append(sign_type)\n",
    "    return np.array(dataset), np.array(labels)\n",
    "def deskew(img):\n",
    "    m = cv2.moments(img)\n",
    "    if abs(m['mu02']) < 1e-2:\n",
    "        return img.copy()\n",
    "    skew = m['mu11']/m['mu02']\n",
    "    M = np.float32([[1, skew, -0.5*SIZE*skew], [0, 1, 0]])\n",
    "    img = cv2.warpAffine(img, M, (SIZE, SIZE), flags=cv2.WARP_INVERSE_MAP | cv2.INTER_LINEAR)\n",
    "    return img\n"
   ]
  }
 ],
 "metadata": {
  "kernelspec": {
   "display_name": "Python 3",
   "language": "python",
   "name": "python3"
  },
  "language_info": {
   "codemirror_mode": {
    "name": "ipython",
    "version": 3
   },
   "file_extension": ".py",
   "mimetype": "text/x-python",
   "name": "python",
   "nbconvert_exporter": "python",
   "pygments_lexer": "ipython3",
   "version": "3.6.6"
  }
 },
 "nbformat": 4,
 "nbformat_minor": 2
}
